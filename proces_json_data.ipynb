{
 "cells": [
  {
   "cell_type": "code",
   "execution_count": 1,
   "metadata": {},
   "outputs": [],
   "source": [
    "import numpy as np\n",
    "import json "
   ]
  },
  {
   "cell_type": "code",
   "execution_count": 2,
   "metadata": {},
   "outputs": [
    {
     "name": "stdout",
     "output_type": "stream",
     "text": [
      "20\n",
      "<class 'list'>\n",
      "<class 'dict'>\n",
      "<class 'list'>\n"
     ]
    }
   ],
   "source": [
    "json_data=open('data.json', 'r')\n",
    "loaded_data= json.load(json_data)\n",
    "print(len(loaded_data))\n",
    "print(type(loaded_data))\n",
    "print(type(loaded_data[0]))\n",
    "print(type(loaded_data[0][\"friends\"]))"
   ]
  },
  {
   "cell_type": "code",
   "execution_count": 8,
   "metadata": {},
   "outputs": [
    {
     "name": "stdout",
     "output_type": "stream",
     "text": [
      "id: 1\n",
      "firstName: Paul\n",
      "surname: Crowe\n",
      "age: 28\n",
      "gender: male\n",
      "friends: [2]\n",
      "#######################\n",
      "id: 2\n",
      "firstName: Rob\n",
      "surname: Fitz\n",
      "age: 23\n",
      "gender: male\n",
      "friends: [1, 3]\n",
      "#######################\n",
      "id: 3\n",
      "firstName: Ben\n",
      "surname: O'Carolan\n",
      "age: None\n",
      "gender: male\n",
      "friends: [2, 4, 5, 7]\n",
      "#######################\n",
      "id: 4\n",
      "firstName: Victor\n",
      "surname: \n",
      "age: 28\n",
      "gender: male\n",
      "friends: [3]\n",
      "#######################\n",
      "id: 5\n",
      "firstName: Peter\n",
      "surname: Mac\n",
      "age: 29\n",
      "gender: male\n",
      "friends: [3, 6, 11, 10, 7]\n",
      "#######################\n",
      "id: 6\n",
      "firstName: John\n",
      "surname: Barry\n",
      "age: 18\n",
      "gender: male\n",
      "friends: [5]\n",
      "#######################\n",
      "id: 7\n",
      "firstName: Sarah\n",
      "surname: Lane\n",
      "age: 30\n",
      "gender: female\n",
      "friends: [3, 5, 20, 12, 8]\n",
      "#######################\n",
      "id: 8\n",
      "firstName: Susan\n",
      "surname: Downe\n",
      "age: 28\n",
      "gender: female\n",
      "friends: [7]\n",
      "#######################\n",
      "id: 9\n",
      "firstName: Jack\n",
      "surname: Stam\n",
      "age: 28\n",
      "gender: male\n",
      "friends: [12]\n",
      "#######################\n",
      "id: 10\n",
      "firstName: Amy\n",
      "surname: Lane\n",
      "age: 24\n",
      "gender: female\n",
      "friends: [5, 11]\n",
      "#######################\n",
      "id: 11\n",
      "firstName: Sandra\n",
      "surname: Phelan\n",
      "age: 28\n",
      "gender: female\n",
      "friends: [5, 10, 19, 20]\n",
      "#######################\n",
      "id: 12\n",
      "firstName: Laura\n",
      "surname: Murphy\n",
      "age: 33\n",
      "gender: female\n",
      "friends: [7, 9, 13, 20]\n",
      "#######################\n",
      "id: 13\n",
      "firstName: Lisa\n",
      "surname: Daly\n",
      "age: 28\n",
      "gender: female\n",
      "friends: [12, 14, 20]\n",
      "#######################\n",
      "id: 14\n",
      "firstName: Mark\n",
      "surname: Johnson\n",
      "age: 28\n",
      "gender: male\n",
      "friends: [13, 15]\n",
      "#######################\n",
      "id: 15\n",
      "firstName: Seamus\n",
      "surname: Crowe\n",
      "age: 24\n",
      "gender: male\n",
      "friends: [14]\n",
      "#######################\n",
      "id: 16\n",
      "firstName: Daren\n",
      "surname: Slater\n",
      "age: 28\n",
      "gender: male\n",
      "friends: [18, 20]\n",
      "#######################\n",
      "id: 17\n",
      "firstName: Dara\n",
      "surname: Zoltan\n",
      "age: 48\n",
      "gender: male\n",
      "friends: [18, 20]\n",
      "#######################\n",
      "id: 18\n",
      "firstName: Marie\n",
      "surname: D\n",
      "age: 28\n",
      "gender: female\n",
      "friends: [17]\n",
      "#######################\n",
      "id: 19\n",
      "firstName: Catriona\n",
      "surname: Long\n",
      "age: 28\n",
      "gender: female\n",
      "friends: [11, 20]\n",
      "#######################\n",
      "id: 20\n",
      "firstName: Katy\n",
      "surname: Couch\n",
      "age: 28\n",
      "gender: female\n",
      "friends: [7, 11, 12, 13, 16, 17, 19]\n",
      "#######################\n"
     ]
    }
   ],
   "source": [
    "###########create hash table for given data by using dictionary python###########\n",
    "data_hash_table={}  ##make hash table each entry index by object id \n",
    "for obj in loaded_data:\n",
    "    print(\"id:\",obj[\"id\"])\n",
    "    print(\"firstName:\",obj[\"firstName\"])\n",
    "    print(\"surname:\",obj[\"surname\"])\n",
    "    print(\"age:\",obj[\"age\"])\n",
    "    print(\"gender:\",obj[\"gender\"])\n",
    "    print(\"friends:\",obj[\"friends\"])\n",
    "    data_hash_table[obj[\"id\"]]={\"id\":obj[\"id\"],\"firstName\":obj[\"firstName\"],\"surname\":obj[\"surname\"],\\\n",
    "                                \"age\":obj[\"age\"],\"gender\":obj[\"gender\"],\"friends\":obj[\"friends\"]}\n",
    "    print(\"#######################\")\n"
   ]
  },
  {
   "cell_type": "code",
   "execution_count": 9,
   "metadata": {},
   "outputs": [
    {
     "name": "stdout",
     "output_type": "stream",
     "text": [
      "{1: {'friends': [2], 'gender': 'male', 'firstName': 'Paul', 'surname': 'Crowe', 'age': 28, 'id': 1}, 2: {'friends': [1, 3], 'gender': 'male', 'firstName': 'Rob', 'surname': 'Fitz', 'age': 23, 'id': 2}, 3: {'friends': [2, 4, 5, 7], 'gender': 'male', 'firstName': 'Ben', 'surname': \"O'Carolan\", 'age': None, 'id': 3}, 4: {'friends': [3], 'gender': 'male', 'firstName': 'Victor', 'surname': '', 'age': 28, 'id': 4}, 5: {'friends': [3, 6, 11, 10, 7], 'gender': 'male', 'firstName': 'Peter', 'surname': 'Mac', 'age': 29, 'id': 5}, 6: {'friends': [5], 'gender': 'male', 'firstName': 'John', 'surname': 'Barry', 'age': 18, 'id': 6}, 7: {'friends': [3, 5, 20, 12, 8], 'gender': 'female', 'firstName': 'Sarah', 'surname': 'Lane', 'age': 30, 'id': 7}, 8: {'friends': [7], 'gender': 'female', 'firstName': 'Susan', 'surname': 'Downe', 'age': 28, 'id': 8}, 9: {'friends': [12], 'gender': 'male', 'firstName': 'Jack', 'surname': 'Stam', 'age': 28, 'id': 9}, 10: {'friends': [5, 11], 'gender': 'female', 'firstName': 'Amy', 'surname': 'Lane', 'age': 24, 'id': 10}, 11: {'friends': [5, 10, 19, 20], 'gender': 'female', 'firstName': 'Sandra', 'surname': 'Phelan', 'age': 28, 'id': 11}, 12: {'friends': [7, 9, 13, 20], 'gender': 'female', 'firstName': 'Laura', 'surname': 'Murphy', 'age': 33, 'id': 12}, 13: {'friends': [12, 14, 20], 'gender': 'female', 'firstName': 'Lisa', 'surname': 'Daly', 'age': 28, 'id': 13}, 14: {'friends': [13, 15], 'gender': 'male', 'firstName': 'Mark', 'surname': 'Johnson', 'age': 28, 'id': 14}, 15: {'friends': [14], 'gender': 'male', 'firstName': 'Seamus', 'surname': 'Crowe', 'age': 24, 'id': 15}, 16: {'friends': [18, 20], 'gender': 'male', 'firstName': 'Daren', 'surname': 'Slater', 'age': 28, 'id': 16}, 17: {'friends': [18, 20], 'gender': 'male', 'firstName': 'Dara', 'surname': 'Zoltan', 'age': 48, 'id': 17}, 18: {'friends': [17], 'gender': 'female', 'firstName': 'Marie', 'surname': 'D', 'age': 28, 'id': 18}, 19: {'friends': [11, 20], 'gender': 'female', 'firstName': 'Catriona', 'surname': 'Long', 'age': 28, 'id': 19}, 20: {'friends': [7, 11, 12, 13, 16, 17, 19], 'gender': 'female', 'firstName': 'Katy', 'surname': 'Couch', 'age': 28, 'id': 20}}\n"
     ]
    }
   ],
   "source": [
    "print(data_hash_table)"
   ]
  },
  {
   "cell_type": "code",
   "execution_count": 113,
   "metadata": {},
   "outputs": [],
   "source": [
    "def search_direct_friends(chosen_id):\n",
    "    print(\"direct_friends of friend(\",chosen_id,\")=\",data_hash_table[chosen_id][\"friends\"])\n",
    "    return data_hash_table[chosen_id][\"friends\"]\n",
    "\n",
    "def find_friends_of_friends(chosen_id):\n",
    "    friends_of_friends=[]\n",
    "    direct_friends_ids=search_direct_friends(chosen_id)\n",
    "    for friend_id in direct_friends_ids:\n",
    "        print(\"for friend id:\",friend_id)\n",
    "        friends_of_single_friend=search_direct_friends(friend_id)\n",
    "        print(\"friends_of_single_friend id:\",friends_of_single_friend)\n",
    "        friends_of_friends+=friends_of_single_friend\n",
    "        print(\"============\")\n",
    "      \n",
    "    return set(friends_of_friends)\n",
    "\n",
    "def get_suggested_friends(chosen_id):\n",
    "    suggested_friends=set()\n",
    "    count_repeated_id=[0]*21 ## build list for counting repeated id  \n",
    "    direct_friends_ids=search_direct_friends(chosen_id)\n",
    "    for friend_id in direct_friends_ids:\n",
    "        print(\"for direct friend id:\",friend_id)\n",
    "        friends_of_direct_friend_id=search_direct_friends(friend_id)\n",
    "        print(\"friends_of_direct_friend_id:\",friends_of_direct_friend_id)\n",
    "        for friend_of_friend_id in friends_of_direct_friend_id:\n",
    "            count_repeated_id[friend_of_friend_id]+=1\n",
    "    \n",
    "    print(\"count_repeated_id=\",count_repeated_id)\n",
    "    for i in range(len(count_repeated_id)):\n",
    "        if(not(i==chosen_id) and not(i in direct_friends_ids) and count_repeated_id[i]>1):\n",
    "            suggested_friends.add(i)\n",
    "            \n",
    "    return suggested_friends \n",
    "\n",
    "    "
   ]
  },
  {
   "cell_type": "code",
   "execution_count": 120,
   "metadata": {},
   "outputs": [
    {
     "name": "stdout",
     "output_type": "stream",
     "text": [
      "direct_friends of friend( 20 )= [7, 11, 12, 13, 16, 17, 19]\n"
     ]
    }
   ],
   "source": [
    "friends_ls=search_direct_friends(20)"
   ]
  },
  {
   "cell_type": "code",
   "execution_count": 121,
   "metadata": {},
   "outputs": [
    {
     "name": "stdout",
     "output_type": "stream",
     "text": [
      "[7, 11, 12, 13, 16, 17, 19]\n"
     ]
    }
   ],
   "source": [
    "print(friends_ls)"
   ]
  },
  {
   "cell_type": "code",
   "execution_count": 122,
   "metadata": {},
   "outputs": [
    {
     "name": "stdout",
     "output_type": "stream",
     "text": [
      "direct_friends of friend( 20 )= [7, 11, 12, 13, 16, 17, 19]\n",
      "for friend id: 7\n",
      "direct_friends of friend( 7 )= [3, 5, 20, 12, 8]\n",
      "friends_of_single_friend id: [3, 5, 20, 12, 8]\n",
      "============\n",
      "for friend id: 11\n",
      "direct_friends of friend( 11 )= [5, 10, 19, 20]\n",
      "friends_of_single_friend id: [5, 10, 19, 20]\n",
      "============\n",
      "for friend id: 12\n",
      "direct_friends of friend( 12 )= [7, 9, 13, 20]\n",
      "friends_of_single_friend id: [7, 9, 13, 20]\n",
      "============\n",
      "for friend id: 13\n",
      "direct_friends of friend( 13 )= [12, 14, 20]\n",
      "friends_of_single_friend id: [12, 14, 20]\n",
      "============\n",
      "for friend id: 16\n",
      "direct_friends of friend( 16 )= [18, 20]\n",
      "friends_of_single_friend id: [18, 20]\n",
      "============\n",
      "for friend id: 17\n",
      "direct_friends of friend( 17 )= [18, 20]\n",
      "friends_of_single_friend id: [18, 20]\n",
      "============\n",
      "for friend id: 19\n",
      "direct_friends of friend( 19 )= [11, 20]\n",
      "friends_of_single_friend id: [11, 20]\n",
      "============\n"
     ]
    }
   ],
   "source": [
    "friendsOfFriends=find_friends_of_friends(20)"
   ]
  },
  {
   "cell_type": "code",
   "execution_count": 123,
   "metadata": {},
   "outputs": [
    {
     "name": "stdout",
     "output_type": "stream",
     "text": [
      "{3, 5, 7, 8, 9, 10, 11, 12, 13, 14, 18, 19, 20}\n"
     ]
    }
   ],
   "source": [
    "print(friendsOfFriends)"
   ]
  },
  {
   "cell_type": "code",
   "execution_count": 126,
   "metadata": {},
   "outputs": [
    {
     "name": "stdout",
     "output_type": "stream",
     "text": [
      "direct_friends of friend( 20 )= [7, 11, 12, 13, 16, 17, 19]\n",
      "for direct friend id: 7\n",
      "direct_friends of friend( 7 )= [3, 5, 20, 12, 8]\n",
      "friends_of_direct_friend_id: [3, 5, 20, 12, 8]\n",
      "for direct friend id: 11\n",
      "direct_friends of friend( 11 )= [5, 10, 19, 20]\n",
      "friends_of_direct_friend_id: [5, 10, 19, 20]\n",
      "for direct friend id: 12\n",
      "direct_friends of friend( 12 )= [7, 9, 13, 20]\n",
      "friends_of_direct_friend_id: [7, 9, 13, 20]\n",
      "for direct friend id: 13\n",
      "direct_friends of friend( 13 )= [12, 14, 20]\n",
      "friends_of_direct_friend_id: [12, 14, 20]\n",
      "for direct friend id: 16\n",
      "direct_friends of friend( 16 )= [18, 20]\n",
      "friends_of_direct_friend_id: [18, 20]\n",
      "for direct friend id: 17\n",
      "direct_friends of friend( 17 )= [18, 20]\n",
      "friends_of_direct_friend_id: [18, 20]\n",
      "for direct friend id: 19\n",
      "direct_friends of friend( 19 )= [11, 20]\n",
      "friends_of_direct_friend_id: [11, 20]\n",
      "count_repeated_id= [0, 0, 0, 1, 0, 2, 0, 1, 1, 1, 1, 1, 2, 1, 1, 0, 0, 0, 2, 1, 7]\n"
     ]
    }
   ],
   "source": [
    "suggested_friends=get_suggested_friends(20)"
   ]
  },
  {
   "cell_type": "code",
   "execution_count": 127,
   "metadata": {},
   "outputs": [
    {
     "name": "stdout",
     "output_type": "stream",
     "text": [
      "suggested friend: {18, 5}\n"
     ]
    }
   ],
   "source": [
    "print(\"suggested friend:\",suggested_friends)"
   ]
  },
  {
   "cell_type": "code",
   "execution_count": 66,
   "metadata": {},
   "outputs": [],
   "source": [
    "count_repeated_id=[0]*21\n"
   ]
  },
  {
   "cell_type": "code",
   "execution_count": 67,
   "metadata": {},
   "outputs": [
    {
     "name": "stdout",
     "output_type": "stream",
     "text": [
      "[0, 0, 0, 0, 0, 0, 0, 0, 0, 0, 0, 0, 0, 0, 0, 0, 0, 0, 0, 0, 0]\n"
     ]
    }
   ],
   "source": [
    "print(count_repeated_id)"
   ]
  },
  {
   "cell_type": "code",
   "execution_count": 68,
   "metadata": {},
   "outputs": [
    {
     "ename": "TypeError",
     "evalue": "list indices must be integers or slices, not list",
     "output_type": "error",
     "traceback": [
      "\u001b[0;31m---------------------------------------------------------------------------\u001b[0m",
      "\u001b[0;31mTypeError\u001b[0m                                 Traceback (most recent call last)",
      "\u001b[0;32m<ipython-input-68-43035c758bc5>\u001b[0m in \u001b[0;36m<module>\u001b[0;34m\u001b[0m\n\u001b[0;32m----> 1\u001b[0;31m \u001b[0mcount_repeated_id\u001b[0m\u001b[0;34m[\u001b[0m\u001b[0;34m[\u001b[0m\u001b[0;36m0\u001b[0m\u001b[0;34m,\u001b[0m\u001b[0;36m2\u001b[0m\u001b[0;34m,\u001b[0m\u001b[0;36m4\u001b[0m\u001b[0;34m]\u001b[0m\u001b[0;34m]\u001b[0m\u001b[0;34m=\u001b[0m\u001b[0;36m1\u001b[0m\u001b[0;34m\u001b[0m\u001b[0m\n\u001b[0m",
      "\u001b[0;31mTypeError\u001b[0m: list indices must be integers or slices, not list"
     ]
    }
   ],
   "source": []
  },
  {
   "cell_type": "code",
   "execution_count": null,
   "metadata": {},
   "outputs": [],
   "source": []
  }
 ],
 "metadata": {
  "kernelspec": {
   "display_name": "Python 3",
   "language": "python",
   "name": "python3"
  },
  "language_info": {
   "codemirror_mode": {
    "name": "ipython",
    "version": 3
   },
   "file_extension": ".py",
   "mimetype": "text/x-python",
   "name": "python",
   "nbconvert_exporter": "python",
   "pygments_lexer": "ipython3",
   "version": "3.5.2"
  }
 },
 "nbformat": 4,
 "nbformat_minor": 2
}
