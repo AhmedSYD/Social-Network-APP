{
 "cells": [
  {
   "cell_type": "code",
   "execution_count": 83,
   "metadata": {
    "collapsed": true
   },
   "outputs": [],
   "source": [
    "from collections import OrderedDict\n",
    "import json "
   ]
  },
  {
   "cell_type": "code",
   "execution_count": 42,
   "metadata": {
    "collapsed": true
   },
   "outputs": [],
   "source": [
    "class Person:\n",
    "    def __init__(self,personID=None,firstName=None,surname=None,age=None,gender=None,friends=None):\n",
    "        self.id=personID\n",
    "        self.firstName=firstName\n",
    "        self.surname=surname\n",
    "        self.age=age\n",
    "        self.gender=gender\n",
    "        self.friends=friends\n",
    "        \n",
    "    def set_id(self,personID):\n",
    "        self.id=personID     \n",
    "    def get_id(self):\n",
    "        return self.id\n",
    "    \n",
    "    def set_firstName(self,firstName):\n",
    "        self.firstName=firstName     \n",
    "    def get_firstName(self):\n",
    "        return self.firstName\n",
    "    \n",
    "    def set_surname(self,surname):\n",
    "        self.surname=surname     \n",
    "    def get_surname(self):\n",
    "        return self.surname\n",
    "    \n",
    "    def set_age(self,age):\n",
    "        self.age=age     \n",
    "    def get_age(self):\n",
    "        return self.age\n",
    "    \n",
    "    def set_gender(self,gender):\n",
    "        self.gender=gender    \n",
    "    def get_gender(self):\n",
    "        return self.gender\n",
    "    \n",
    "    def set_friends(self,friends):\n",
    "        self.friends=friends     \n",
    "    def get_friends(self):\n",
    "        return self.friends\n",
    "        "
   ]
  },
  {
   "cell_type": "code",
   "execution_count": 116,
   "metadata": {
    "collapsed": true
   },
   "outputs": [],
   "source": [
    "class ProcssData():\n",
    "    def __init__(self,jsonFilePath=None):\n",
    "        self.hashTable={} ##self.hashTable is hash table attribute ,which its index is person id and value is person object\n",
    "        if(not(jsonFilePath==None)):\n",
    "            self.read_and_process_jsonFile(jsonFilePath)\n",
    "\n",
    "    ##read data from path of json file and return list of data\n",
    "    def load_json_data(self,jsonFilePath):\n",
    "        loadedData=[]\n",
    "        try:\n",
    "            jsonData=open(jsonFilePath, 'r')\n",
    "            loadedData= json.load(jsonData) ## loadedData is list of all json data\n",
    "        except IOError:\n",
    "            print(\"File not accessible\")\n",
    "\n",
    "        return loadedData\n",
    "    \n",
    "    ##get list of data from json file as an input and put into hash table \n",
    "    def put_data_into_hashTable(self,loadedData):\n",
    "        for obj in loadedData:\n",
    "            print(\"id:\",obj[\"id\"])\n",
    "            print(\"firstName:\",obj[\"firstName\"])\n",
    "            print(\"surname:\",obj[\"surname\"])\n",
    "            print(\"age:\",obj[\"age\"])\n",
    "            print(\"gender:\",obj[\"gender\"])\n",
    "            print(\"friends:\",obj[\"friends\"])\n",
    "            personObject=Person(personID=obj[\"id\"],firstName=obj[\"firstName\"],surname=obj[\"surname\"],age=obj[\"age\"],\\\n",
    "                   gender=obj[\"gender\"],friends=obj[\"friends\"])\n",
    "            self.hashTable[obj[\"id\"]]=personObject\n",
    "        print(self.hashTable)\n",
    "        \n",
    "    ##read json file and extract data from it then put the data into hash table     \n",
    "    def read_and_process_jsonFile(self,jsonFilePath):\n",
    "        loadedData=self.load_json_data(jsonFilePath)\n",
    "        if(len(loadedData)!=0):\n",
    "            self.put_data_into_hashTable(loadedData)\n",
    "    \n",
    "    ##return person object;given its id \n",
    "    def get_person_from_id(self,chosenID):\n",
    "        return self.hashTable[chosenID]  \n",
    "    \n",
    "    ##return direct friends for chosen user; given its id\n",
    "    def get_direct_friends(self,chosenID):\n",
    "        print(\"direct_friends of friend(\",chosenID,\")=\",self.hashTable[chosenID].get_friends())\n",
    "        return self.hashTable[chosenID].get_friends() ##return list of ids of friends\n",
    "    \n",
    "    ##return list of friends of friends for chosen_user; given its id\n",
    "    def get_friends_of_friends(self,chosenID):\n",
    "        friendsOfFriends=[]\n",
    "        directFriendsIDs=self.get_direct_friends(chosenID)\n",
    "        for directFriendID in directFriendsIDs:\n",
    "            print(\"for friend id:\",directFriendID)\n",
    "            friendsOfDirectFriendIDs=self.get_direct_friends(directFriendID)\n",
    "            print(\"friends of direct friend ids:\",friendsOfDirectFriendIDs)\n",
    "            friendsOfFriends+=friendsOfDirectFriendIDs\n",
    "            print(\"============\")\n",
    "        print(\"friendsOfFriends before remove repeated:\",friendsOfFriends)\n",
    "        return list(OrderedDict.fromkeys(friendsOfFriends)) ##remove repeated id in friendsOfFriends list if found\n",
    "    \n",
    "    ##return suggested friends for chosen user; given its id\n",
    "    def get_suggested_friends(self,chosenID):\n",
    "        suggestedFriends=[] ##list of all suggested friend\n",
    "        countRepeatedId=[0]*21 # create list ,every index in it represent person id, to count all id getten    \n",
    "        directFriendsIDs=self.get_direct_friends(chosenID)\n",
    "        for directFriendID in directFriendsIDs:\n",
    "            print(\"for direct friend id:\",directFriendID)\n",
    "            friendsOfDirectFriendIDs=self.get_direct_friends(directFriendID)\n",
    "            print(\"friends_of_direct_friend_id:\",friendsOfDirectFriendIDs)\n",
    "            for friendOfDirectFriendID in friendsOfDirectFriendIDs:\n",
    "                countRepeatedId[friendOfDirectFriendID]+=1\n",
    "\n",
    "        print(\"ccountRepeatedId=\",countRepeatedId)\n",
    "        for selectedID in range(len(countRepeatedId)):\n",
    "            if(not(selectedID==chosenID) and not(selectedID in directFriendsIDs) and countRepeatedId[selectedID]>1):\n",
    "                suggestedFriends.append(selectedID)\n",
    "\n",
    "        return list(OrderedDict.fromkeys(suggestedFriends)) ##remove repeated id in suggestedFriends list if found\n",
    "\n",
    "\n",
    "            "
   ]
  },
  {
   "cell_type": "code",
   "execution_count": 109,
   "metadata": {
    "collapsed": true
   },
   "outputs": [],
   "source": [
    "per=Person(personID=2,firstName=\"ahmed\",surname=\"sayed\",age=24,gender=\"male\",friends=[2,3])"
   ]
  },
  {
   "cell_type": "code",
   "execution_count": 110,
   "metadata": {},
   "outputs": [
    {
     "name": "stdout",
     "output_type": "stream",
     "text": [
      "2\n",
      "ahmed\n",
      "sayed\n",
      "24\n",
      "male\n",
      "[2, 3]\n"
     ]
    }
   ],
   "source": [
    "print(per.get_id())\n",
    "print(per.get_firstName())\n",
    "print(per.get_surname())\n",
    "print(per.get_age())\n",
    "print(per.get_gender())\n",
    "print(per.get_friends())\n"
   ]
  },
  {
   "cell_type": "code",
   "execution_count": 117,
   "metadata": {},
   "outputs": [
    {
     "name": "stdout",
     "output_type": "stream",
     "text": [
      "id: 1\n",
      "firstName: Paul\n",
      "surname: Crowe\n",
      "age: 28\n",
      "gender: male\n",
      "friends: [2]\n",
      "id: 2\n",
      "firstName: Rob\n",
      "surname: Fitz\n",
      "age: 23\n",
      "gender: male\n",
      "friends: [1, 3]\n",
      "id: 3\n",
      "firstName: Ben\n",
      "surname: O'Carolan\n",
      "age: None\n",
      "gender: male\n",
      "friends: [2, 4, 5, 7]\n",
      "id: 4\n",
      "firstName: Victor\n",
      "surname: \n",
      "age: 28\n",
      "gender: male\n",
      "friends: [3]\n",
      "id: 5\n",
      "firstName: Peter\n",
      "surname: Mac\n",
      "age: 29\n",
      "gender: male\n",
      "friends: [3, 6, 11, 10, 7]\n",
      "id: 6\n",
      "firstName: John\n",
      "surname: Barry\n",
      "age: 18\n",
      "gender: male\n",
      "friends: [5]\n",
      "id: 7\n",
      "firstName: Sarah\n",
      "surname: Lane\n",
      "age: 30\n",
      "gender: female\n",
      "friends: [3, 5, 20, 12, 8]\n",
      "id: 8\n",
      "firstName: Susan\n",
      "surname: Downe\n",
      "age: 28\n",
      "gender: female\n",
      "friends: [7]\n",
      "id: 9\n",
      "firstName: Jack\n",
      "surname: Stam\n",
      "age: 28\n",
      "gender: male\n",
      "friends: [12]\n",
      "id: 10\n",
      "firstName: Amy\n",
      "surname: Lane\n",
      "age: 24\n",
      "gender: female\n",
      "friends: [5, 11]\n",
      "id: 11\n",
      "firstName: Sandra\n",
      "surname: Phelan\n",
      "age: 28\n",
      "gender: female\n",
      "friends: [5, 10, 19, 20]\n",
      "id: 12\n",
      "firstName: Laura\n",
      "surname: Murphy\n",
      "age: 33\n",
      "gender: female\n",
      "friends: [7, 9, 13, 20]\n",
      "id: 13\n",
      "firstName: Lisa\n",
      "surname: Daly\n",
      "age: 28\n",
      "gender: female\n",
      "friends: [12, 14, 20]\n",
      "id: 14\n",
      "firstName: Mark\n",
      "surname: Johnson\n",
      "age: 28\n",
      "gender: male\n",
      "friends: [13, 15]\n",
      "id: 15\n",
      "firstName: Seamus\n",
      "surname: Crowe\n",
      "age: 24\n",
      "gender: male\n",
      "friends: [14]\n",
      "id: 16\n",
      "firstName: Daren\n",
      "surname: Slater\n",
      "age: 28\n",
      "gender: male\n",
      "friends: [18, 20]\n",
      "id: 17\n",
      "firstName: Dara\n",
      "surname: Zoltan\n",
      "age: 48\n",
      "gender: male\n",
      "friends: [18, 20]\n",
      "id: 18\n",
      "firstName: Marie\n",
      "surname: D\n",
      "age: 28\n",
      "gender: female\n",
      "friends: [17]\n",
      "id: 19\n",
      "firstName: Catriona\n",
      "surname: Long\n",
      "age: 28\n",
      "gender: female\n",
      "friends: [11, 20]\n",
      "id: 20\n",
      "firstName: Katy\n",
      "surname: Couch\n",
      "age: 28\n",
      "gender: female\n",
      "friends: [7, 11, 12, 13, 16, 17, 19]\n",
      "{1: <__main__.Person object at 0x0000008CF35B8C50>, 2: <__main__.Person object at 0x0000008CF3591D68>, 3: <__main__.Person object at 0x0000008CF3591F28>, 4: <__main__.Person object at 0x0000008CF35783C8>, 5: <__main__.Person object at 0x0000008CF35970F0>, 6: <__main__.Person object at 0x0000008CF36067F0>, 7: <__main__.Person object at 0x0000008CF3606860>, 8: <__main__.Person object at 0x0000008CF35BB4E0>, 9: <__main__.Person object at 0x0000008CF35990F0>, 10: <__main__.Person object at 0x0000008CF35B36D8>, 11: <__main__.Person object at 0x0000008CF35B3C88>, 12: <__main__.Person object at 0x0000008CF359D7B8>, 13: <__main__.Person object at 0x0000008CF35B6390>, 14: <__main__.Person object at 0x0000008CF35B6518>, 15: <__main__.Person object at 0x0000008CF35C34A8>, 16: <__main__.Person object at 0x0000008CF35DC2E8>, 17: <__main__.Person object at 0x0000008CF35DCB00>, 18: <__main__.Person object at 0x0000008CF3588BE0>, 19: <__main__.Person object at 0x0000008CF35D17B8>, 20: <__main__.Person object at 0x0000008CF35D1AC8>}\n"
     ]
    }
   ],
   "source": [
    "processData_obj=ProcssData(\"data.json\")"
   ]
  },
  {
   "cell_type": "code",
   "execution_count": 118,
   "metadata": {},
   "outputs": [
    {
     "name": "stdout",
     "output_type": "stream",
     "text": [
      "direct_friends of friend( 2 )= [1, 3]\n",
      "[1, 3]\n"
     ]
    }
   ],
   "source": [
    "print(processData_obj.get_direct_friends(2))"
   ]
  },
  {
   "cell_type": "code",
   "execution_count": 119,
   "metadata": {},
   "outputs": [
    {
     "name": "stdout",
     "output_type": "stream",
     "text": [
      "O'Carolan\n"
     ]
    }
   ],
   "source": [
    "friend_obj=processData_obj.get_person_from_id(3)\n",
    "print(friend_obj.get_surname())"
   ]
  },
  {
   "cell_type": "code",
   "execution_count": 120,
   "metadata": {},
   "outputs": [
    {
     "name": "stdout",
     "output_type": "stream",
     "text": [
      "direct_friends of friend( 20 )= [7, 11, 12, 13, 16, 17, 19]\n",
      "for friend id: 7\n",
      "direct_friends of friend( 7 )= [3, 5, 20, 12, 8]\n",
      "friends of direct friend ids: [3, 5, 20, 12, 8]\n",
      "============\n",
      "for friend id: 11\n",
      "direct_friends of friend( 11 )= [5, 10, 19, 20]\n",
      "friends of direct friend ids: [5, 10, 19, 20]\n",
      "============\n",
      "for friend id: 12\n",
      "direct_friends of friend( 12 )= [7, 9, 13, 20]\n",
      "friends of direct friend ids: [7, 9, 13, 20]\n",
      "============\n",
      "for friend id: 13\n",
      "direct_friends of friend( 13 )= [12, 14, 20]\n",
      "friends of direct friend ids: [12, 14, 20]\n",
      "============\n",
      "for friend id: 16\n",
      "direct_friends of friend( 16 )= [18, 20]\n",
      "friends of direct friend ids: [18, 20]\n",
      "============\n",
      "for friend id: 17\n",
      "direct_friends of friend( 17 )= [18, 20]\n",
      "friends of direct friend ids: [18, 20]\n",
      "============\n",
      "for friend id: 19\n",
      "direct_friends of friend( 19 )= [11, 20]\n",
      "friends of direct friend ids: [11, 20]\n",
      "============\n",
      "friendsOfFriends before remove repeated: [3, 5, 20, 12, 8, 5, 10, 19, 20, 7, 9, 13, 20, 12, 14, 20, 18, 20, 18, 20, 11, 20]\n",
      "friendsOfFriends_list: [3, 5, 20, 12, 8, 10, 19, 7, 9, 13, 14, 18, 11]\n"
     ]
    }
   ],
   "source": [
    "friendsOfFriends_list=processData_obj.get_friends_of_friends(20)\n",
    "print(\"friendsOfFriends_list:\",friendsOfFriends_list) "
   ]
  },
  {
   "cell_type": "code",
   "execution_count": 121,
   "metadata": {},
   "outputs": [
    {
     "name": "stdout",
     "output_type": "stream",
     "text": [
      "direct_friends of friend( 20 )= [7, 11, 12, 13, 16, 17, 19]\n",
      "for direct friend id: 7\n",
      "direct_friends of friend( 7 )= [3, 5, 20, 12, 8]\n",
      "friends_of_direct_friend_id: [3, 5, 20, 12, 8]\n",
      "for direct friend id: 11\n",
      "direct_friends of friend( 11 )= [5, 10, 19, 20]\n",
      "friends_of_direct_friend_id: [5, 10, 19, 20]\n",
      "for direct friend id: 12\n",
      "direct_friends of friend( 12 )= [7, 9, 13, 20]\n",
      "friends_of_direct_friend_id: [7, 9, 13, 20]\n",
      "for direct friend id: 13\n",
      "direct_friends of friend( 13 )= [12, 14, 20]\n",
      "friends_of_direct_friend_id: [12, 14, 20]\n",
      "for direct friend id: 16\n",
      "direct_friends of friend( 16 )= [18, 20]\n",
      "friends_of_direct_friend_id: [18, 20]\n",
      "for direct friend id: 17\n",
      "direct_friends of friend( 17 )= [18, 20]\n",
      "friends_of_direct_friend_id: [18, 20]\n",
      "for direct friend id: 19\n",
      "direct_friends of friend( 19 )= [11, 20]\n",
      "friends_of_direct_friend_id: [11, 20]\n",
      "ccountRepeatedId= [0, 0, 0, 1, 0, 2, 0, 1, 1, 1, 1, 1, 2, 1, 1, 0, 0, 0, 2, 1, 7]\n",
      "suggestFriends_list: [5, 18]\n"
     ]
    }
   ],
   "source": [
    "suggestFriends_list=processData_obj.get_suggested_friends(20)\n",
    "print(\"suggestFriends_list:\",suggestFriends_list) "
   ]
  },
  {
   "cell_type": "code",
   "execution_count": 122,
   "metadata": {},
   "outputs": [
    {
     "name": "stdout",
     "output_type": "stream",
     "text": [
      "Peter\n",
      "Marie\n"
     ]
    }
   ],
   "source": [
    "for ID in suggestFriends_list:\n",
    "    print(processData_obj.hashTable[ID].get_firstName())   "
   ]
  },
  {
   "cell_type": "code",
   "execution_count": 63,
   "metadata": {},
   "outputs": [
    {
     "name": "stdout",
     "output_type": "stream",
     "text": [
      "2\n",
      "Rob\n",
      "Fitz\n",
      "23\n",
      "male\n",
      "[1, 3]\n"
     ]
    }
   ],
   "source": [
    "print(processData_obj.hashTable[2].get_id())\n",
    "print(processData_obj.hashTable[2].get_firstName())\n",
    "print(processData_obj.hashTable[2].get_surname())\n",
    "print(processData_obj.hashTable[2].get_age())\n",
    "print(processData_obj.hashTable[2].get_gender())\n",
    "print(processData_obj.hashTable[2].get_friends())"
   ]
  },
  {
   "cell_type": "code",
   "execution_count": null,
   "metadata": {
    "collapsed": true
   },
   "outputs": [],
   "source": []
  },
  {
   "cell_type": "code",
   "execution_count": 89,
   "metadata": {
    "collapsed": true
   },
   "outputs": [],
   "source": [
    "from tkinter import *\n",
    "from tkinter.ttk import Progressbar\n",
    "from tkinter import scrolledtext"
   ]
  },
  {
   "cell_type": "code",
   "execution_count": 90,
   "metadata": {},
   "outputs": [],
   "source": [
    "window = Tk()\n",
    "window.title(\"social media app\")\n",
    "window.geometry('450x425')\n",
    "\n",
    "labelframe=LabelFrame(window, text=\"Choose user and type of friends\")\n",
    "labelframe.grid(column=0, row=0)\n",
    "\n",
    "lbl = Label(labelframe, text=\"Enter user id:\")\n",
    "lbl.grid(column=0, row=0)\n",
    "txt = Entry(labelframe,width=10)\n",
    "txt.grid(column=1, row=0)\n",
    "\n",
    "\n",
    "lbl = Label(labelframe, text=\"Choose type of friend to show:\")\n",
    "lbl.grid(column=0, row=1)\n",
    "var1 = IntVar()\n",
    "checkbutton1=Checkbutton(labelframe,text=\"Direct friends\",variable=var1)\n",
    "checkbutton1.grid(column=0,row=2)\n",
    "\n",
    "var2 = IntVar()\n",
    "checkbutton2=Checkbutton(labelframe, text=\"Friends of friends\",variable=var2)\n",
    "checkbutton2.grid(column=1,row=2)\n",
    "lbl = Label(labelframe, text=\" \")\n",
    "lbl.grid(column=2, row=2)\n",
    "\n",
    "var3 = IntVar()\n",
    "checkbutton3=Checkbutton(labelframe, text=\"Suggested friends\",variable=var3)\n",
    "checkbutton3.grid(column=3,row=2)\n",
    "lbl = Label(labelframe, text=\"\")\n",
    "lbl.grid(column=4,row=2)\n",
    "\n",
    "\n",
    "\n",
    "def clicked():\n",
    "    print(\"var1 state:\",var1.get())\n",
    "    print(\"var2 state:\",var2.get())\n",
    "    print(\"var3 state:\",var3.get())\n",
    "    print(\"user id:\",txt.get())\n",
    "    \n",
    "\n",
    "btn = Button(labelframe, text=\"get data\", bg=\"green\", fg=\"white\", command=clicked)\n",
    "btn.grid(column=1, row=3)\n",
    "\n",
    "outputLabelframe=LabelFrame(window, text=\"output\")\n",
    "outputLabelframe.grid(column=0, row=2)\n",
    "\n",
    "lbl = Label(outputLabelframe, text=\"Direct friends\")\n",
    "lbl.grid(column=0, row=0)\n",
    "directFriendsScroll = scrolledtext.ScrolledText(outputLabelframe,width=15,height=15)\n",
    "directFriendsScroll.grid(column=0,row=1)\n",
    "\n",
    "lbl = Label(outputLabelframe, text=\"Friends of friends\")\n",
    "lbl.grid(column=1, row=0)\n",
    "friendsOfFriendsScroll = scrolledtext.ScrolledText(outputLabelframe,width=15,height=15)\n",
    "friendsOfFriendsScroll.grid(column=1,row=1)\n",
    "\n",
    "lbl = Label(outputLabelframe, text=\"Suggested friends\")\n",
    "lbl.grid(column=2, row=0)\n",
    "suggestedFriendsScroll = scrolledtext.ScrolledText(outputLabelframe,width=15,height=15)\n",
    "suggestedFriendsScroll.grid(column=2,row=1)\n",
    "\n",
    "\n",
    "window.mainloop()"
   ]
  },
  {
   "cell_type": "code",
   "execution_count": null,
   "metadata": {
    "collapsed": true
   },
   "outputs": [],
   "source": []
  }
 ],
 "metadata": {
  "kernelspec": {
   "display_name": "Python 3",
   "language": "python",
   "name": "python3"
  },
  "language_info": {
   "codemirror_mode": {
    "name": "ipython",
    "version": 3
   },
   "file_extension": ".py",
   "mimetype": "text/x-python",
   "name": "python",
   "nbconvert_exporter": "python",
   "pygments_lexer": "ipython3",
   "version": "3.6.2"
  }
 },
 "nbformat": 4,
 "nbformat_minor": 2
}
